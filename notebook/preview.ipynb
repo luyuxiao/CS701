{
 "cells": [
  {
   "cell_type": "code",
   "execution_count": null,
   "metadata": {},
   "outputs": [],
   "source": [
    "import numpy\n",
    "import os\n",
    "import glob\n",
    "import cv2\n",
    "import pandas as pd\n",
    "import numpy as np\n",
    "import matplotlib.pyplot as plt\n",
    "import seaborn as sns\n",
    "from PIL import Image\n",
    "\n",
    "import sys\n",
    "sys.path.append('../')\n",
    "from utils import image_processing"
   ]
  },
  {
   "cell_type": "code",
   "execution_count": null,
   "metadata": {},
   "outputs": [],
   "source": [
    "data_path = \"C:/Users/wjtay/Documents/GitHub/CS701/public/train_label.txt\"\n",
    "img_dir = \"C:/Users/wjtay/Documents/GitHub/CS701/public/img_dir/train/\""
   ]
  },
  {
   "cell_type": "code",
   "execution_count": null,
   "metadata": {},
   "outputs": [],
   "source": [
    "by_name = {}\n",
    "by_label = {k: [] for k in range(104)}\n",
    "for line in open(data_path):\n",
    "    parts = line.strip().split(' ')\n",
    "    name = parts[0].split('.')[0] + '.jpg'\n",
    "    labels = [int(x) for x in parts[1:]]\n",
    "    by_name.update({name: labels})\n",
    "\n",
    "    for label in labels:\n",
    "        by_label.get(label).append(name)\n",
    " "
   ]
  },
  {
   "cell_type": "code",
   "execution_count": null,
   "metadata": {},
   "outputs": [],
   "source": [
    "keys = sorted(by_label, key=lambda k: len(by_label[k]), reverse=True)\n",
    "values = [len(by_label[k]) for  k in keys]\n",
    "ax = sns.barplot(x=keys, y=values, order=keys)\n",
    "plt.title('Distribution of all label counts')\n",
    "plt.show()"
   ]
  },
  {
   "cell_type": "code",
   "execution_count": null,
   "metadata": {},
   "outputs": [],
   "source": [
    "ax = sns.barplot(x=keys[:10], y=values[:10], order=keys[:10])\n",
    "plt.title('Distribution of top 10 label counts')\n",
    "plt.show()\n",
    "\n",
    "ax = sns.barplot(x=keys[-10:], y=values[-10:], order=keys[-10:])\n",
    "plt.title('Distribution of smallest 10 label counts')\n",
    "plt.show()"
   ]
  },
  {
   "cell_type": "code",
   "execution_count": null,
   "metadata": {},
   "outputs": [],
   "source": [
    "## Coocurence matrix\n",
    "occ = list(by_name.values())\n",
    "df = pd.DataFrame(occ).stack().rename('val').reset_index().drop(columns='level_1')\n",
    "\n",
    "df = df.merge(df, on='level_0').query('val_x != val_y')\n",
    "coocur = pd.crosstab(df.val_x, df.val_y)\n",
    "\n",
    "sns.heatmap(coocur)\n",
    "plt.title('Co-occurence matrix')\n",
    "plt.show()"
   ]
  },
  {
   "cell_type": "code",
   "execution_count": null,
   "metadata": {},
   "outputs": [],
   "source": [
    "from collections import Counter\n",
    "lengths = [len(by_name[k]) for k in list(by_name.keys())]\n",
    "counts = Counter(lengths)\n",
    "\n",
    "ax = sns.barplot(x=list(counts.keys()), y=list(counts.values()))\n",
    "plt.title('Distribution of number of labels per image')\n",
    "plt.show()\n",
    "\n",
    "# Probably not very useful"
   ]
  },
  {
   "cell_type": "code",
   "execution_count": null,
   "metadata": {},
   "outputs": [],
   "source": [
    "from tensorflow.keras.preprocessing import image\n",
    "\n",
    "train_imgs = [fn for fn in os.listdir(img_dir) if fn.endswith('.jpg')]\n",
    "select_norm = np.random.choice(train_imgs, 6, replace = False)\n",
    "fig = plt.figure(figsize = (8,6))\n",
    "\n",
    "for i in range(6):\n",
    "    \n",
    "    fp = f'{img_dir}{select_norm[i]}'\n",
    "    label = by_name.get(select_norm[i])\n",
    "\n",
    "    ax = fig.add_subplot(2, 3, i+1)\n",
    "    \n",
    "    # to plot without rescaling, remove target_size\n",
    "    fn = image.load_img(fp, target_size = (100,100), color_mode='rgb')\n",
    "    plt.imshow(fn)\n",
    "    plt.title(label)\n",
    "    plt.axis('off')\n",
    "plt.show()"
   ]
  },
  {
   "cell_type": "code",
   "execution_count": 60,
   "metadata": {},
   "outputs": [
    {
     "name": "stdout",
     "output_type": "stream",
     "text": [
      "799\n"
     ]
    }
   ],
   "source": [
    "size_images = dict()\n",
    "size_occur = dict()\n",
    "\n",
    "for dirpath, _, filenames in os.walk(img_dir):\n",
    "    for path_image in filenames:\n",
    "        image = os.path.abspath(os.path.join(dirpath, path_image))\n",
    "        with Image.open(image) as img:\n",
    "            width, height = img.size\n",
    "            size_images.update({path_image: {'width': width, 'height': height}})\n",
    "\n",
    "            if(size_occur.get((width,height)) == None):\n",
    "                size_occur.update({(width,height) : 1})\n",
    "            else:\n",
    "                size_occur.update({(width, height): size_occur.get((width, height)) + 1})\n",
    "\n",
    "print(len(size_occur))\n",
    "\n",
    "\n"
   ]
  },
  {
   "cell_type": "code",
   "execution_count": 26,
   "metadata": {},
   "outputs": [
    {
     "data": {
      "text/plain": [
       "995"
      ]
     },
     "execution_count": 26,
     "metadata": {},
     "output_type": "execute_result"
    }
   ],
   "source": [
    "size_occur[(512, 384)]"
   ]
  },
  {
   "cell_type": "code",
   "execution_count": 52,
   "metadata": {},
   "outputs": [
    {
     "name": "stdout",
     "output_type": "stream",
     "text": [
      "[(512, 384), (256, 256), (3264, 2448), (512, 341), (410, 273), (642, 428), (410, 307), (640, 428), (307, 204), (512, 340)]\n"
     ]
    },
    {
     "data": {
      "image/png": "[encoded data removed]",
      "text/plain": [
       "<Figure size 1800x360 with 1 Axes>"
      ]
     },
     "metadata": {
      "needs_background": "light"
     },
     "output_type": "display_data"
    }
   ],
   "source": [
    "keys = sorted(size_occur, key=lambda k: size_occur[k], reverse=True)\n",
    "x_axis = [str(v) for v in keys]\n",
    "print(keys[:10])\n",
    "values = [size_occur[k] for k in keys]\n",
    "# print(values)\n",
    "plt.figure(figsize=(25,5))\n",
    "ax = sns.barplot(x=x_axis[:20], y=values[:20])\n",
    "plt.title('Distribution of top image sizes')\n",
    "\n",
    "plt.show()"
   ]
  },
  {
   "cell_type": "code",
   "execution_count": 78,
   "metadata": {},
   "outputs": [
    {
     "data": {
      "image/png": "[encoded data removed]",
      "text/plain": [
       "<Figure size 1800x360 with 1 Axes>"
      ]
     },
     "metadata": {
      "needs_background": "light"
     },
     "output_type": "display_data"
    },
    {
     "data": {
      "image/png": "[encoded data removed]",
      "text/plain": [
       "<Figure size 1800x360 with 1 Axes>"
      ]
     },
     "metadata": {
      "needs_background": "light"
     },
     "output_type": "display_data"
    }
   ],
   "source": [
    "# widths = [size_occur[k]['width'] for k in size_occur.keys()]\n",
    "widths = [size_images[k]['width'] for k in size_images.keys()]\n",
    "widths_count = Counter(widths).most_common(20)\n",
    "x_widths_count = list(list(zip(*widths_count))[0])\n",
    "y_widths_count = list(list(zip(*widths_count))[1])\n",
    "\n",
    "heights = [size_images[k]['height'] for k in size_images.keys()]\n",
    "heights_count = Counter(heights).most_common(20)\n",
    "x_heights_count = list(list(zip(*heights_count))[0])\n",
    "y_heights_count = list(list(zip(*heights_count))[1])\n",
    "\n",
    "plt.figure(figsize=(25,5))\n",
    "ax = sns.barplot(x=x_widths_count, y=y_widths_count, order=x_widths_count)\n",
    "plt.title('Distribution of image widths')\n",
    "plt.show()\n",
    "\n",
    "plt.figure(figsize=(25,5))\n",
    "ax = sns.barplot(x=x_heights_count, y=y_heights_count, order=x_heights_count)\n",
    "plt.title('Distribution of image heights')\n",
    "plt.show()"
   ]
  },
  {
   "cell_type": "code",
   "execution_count": null,
   "metadata": {},
   "outputs": [],
   "source": [
    "# image = image_processing.read_image(img_dir + list(by_name.keys())[0])\n",
    "image = image_processing.read_image(img_dir + '00000000.jpg')\n",
    "print(np.array(image))"
   ]
  },
  {
   "cell_type": "markdown",
   "metadata": {},
   "source": [
    "## Still working on more analysis\n",
    "\n",
    "### Possible Augmentation\n",
    "\n",
    "Brighten/Lighten the image"
   ]
  },
  {
   "cell_type": "code",
   "execution_count": null,
   "metadata": {},
   "outputs": [],
   "source": [
    "\n"
   ]
  }
 ],
 "metadata": {
  "interpreter": {
   "hash": "e2bfafeb086ecb07b443151868d9327695aa768ca96691ab7d6d7edee4a7bd09"
  },
  "kernelspec": {
   "display_name": "Python 3 (ipykernel)",
   "language": "python",
   "name": "python3"
  },
  "language_info": {
   "codemirror_mode": {
    "name": "ipython",
    "version": 3
   },
   "file_extension": ".py",
   "mimetype": "text/x-python",
   "name": "python",
   "nbconvert_exporter": "python",
   "pygments_lexer": "ipython3",
   "version": "3.8.2"
  },
  "orig_nbformat": 4
 },
 "nbformat": 4,
 "nbformat_minor": 2
}
